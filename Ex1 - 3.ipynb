{
 "cells": [
  {
   "cell_type": "code",
   "execution_count": 2,
   "metadata": {},
   "outputs": [],
   "source": [
    "from bs4 import BeautifulSoup\n",
    "import os\n",
    "import requests\n",
    "%matplotlib inline\n",
    "import matplotlib.pyplot as plt\n",
    "import numpy as np\n",
    "from skimage import io\n",
    "import skimage\n",
    "from skimage import data\n",
    "from skimage.color import rgb2hsv\n",
    "from skimage.filters.rank import entropy\n",
    "from skimage.morphology import disk\n",
    "from skimage.color import rgb2gray\n",
    "import pandas as pd\n",
    "from PIL import Image\n",
    "import matplotlib.pyplot as plt\n",
    "import sklearn\n",
    "import numpy as np"
   ]
  },
  {
   "cell_type": "code",
   "execution_count": 3,
   "metadata": {},
   "outputs": [],
   "source": [
    "DATA_DIR = 'Desktop/art_scraping/data/'\n",
    "ARTIST_URL = 'https://www.wikiart.org/en/{artist}/all-works/text-list'\n",
    "PAINTING_URL = 'https://www.wikiart.org{painting_path}'\n",
    "\n",
    "if not os.path.exists(DATA_DIR):\n",
    "    os.makedirs(DATA_DIR)"
   ]
  },
  {
   "cell_type": "code",
   "execution_count": 4,
   "metadata": {},
   "outputs": [],
   "source": [
    "artist_name = 'mark-rothko'\n",
    "url_query = ARTIST_URL.format(artist=artist_name)\n",
    "artist_page = requests.get(url_query)"
   ]
  },
  {
   "cell_type": "code",
   "execution_count": 5,
   "metadata": {},
   "outputs": [],
   "source": [
    "try:\n",
    "    artist_page.raise_for_status()\n",
    "except requests.exceptions.HTTPError as e:\n",
    "    print(\"Error trying to retrieve {}\".format(artist_page.url))\n",
    "    raise e"
   ]
  },
  {
   "cell_type": "code",
   "execution_count": 6,
   "metadata": {},
   "outputs": [],
   "source": [
    "soup = BeautifulSoup(artist_page.text, 'lxml')\n",
    "IMAGE_DIR = os.path.join(DATA_DIR, artist_name)\n",
    "if not os.path.exists(IMAGE_DIR):\n",
    "    os.makedirs(IMAGE_DIR)"
   ]
  },
  {
   "cell_type": "code",
   "execution_count": 7,
   "metadata": {},
   "outputs": [
    {
     "name": "stdout",
     "output_type": "stream",
     "text": [
      "169\n"
     ]
    }
   ],
   "source": [
    "painting_paths = []\n",
    "\n",
    "for li in soup.find_all('li', {'class': 'painting-list-text-row'}):\n",
    "\n",
    "    for link in li.find_all('a'):\n",
    "        href = link.get('href')\n",
    "        # store in dictionary\n",
    "        painting_paths.append(href)\n",
    "\n",
    "print(len(painting_paths))"
   ]
  },
  {
   "cell_type": "code",
   "execution_count": 8,
   "metadata": {},
   "outputs": [],
   "source": [
    "def download_and_save(painting_url):\n",
    "    r_painting_page = requests.get(painting_url)\n",
    "    soup = BeautifulSoup(r_painting_page.text, \"html.parser\")\n",
    "    #print(soup)\n",
    "    #for img in soup.find_all('img', {'class': 'ms-zoom-cursor'}):\n",
    "    for img in soup.find_all('img'):\n",
    "        #print (img)\n",
    "        img_url = img['src']\n",
    "        img_url = img_url.split('!')[0]\n",
    "        filename = img_url.split('/')[-1]\n",
    "\n",
    "        outfile = os.path.join(IMAGE_DIR, filename)                       \n",
    "        if not os.path.exists(outfile):                        \n",
    "            print(\"downloading {}: {}\".format(filename, img_url))\n",
    "            r = requests.get(img_url, outfile)\n",
    "            with open(outfile, 'wb') as f:\n",
    "                f.write(r.content)\n",
    "        else:\n",
    "            #print(\"skipping {}\".format(filename))\n",
    "            pass"
   ]
  },
  {
   "cell_type": "code",
   "execution_count": null,
   "metadata": {},
   "outputs": [],
   "source": [
    "#for path in painting_paths[:169]:\n",
    "for path in painting_paths:\n",
    "    painting_path = PAINTING_URL.format(painting_path=path)\n",
    "    download_and_save(painting_path)"
   ]
  },
  {
   "cell_type": "code",
   "execution_count": null,
   "metadata": {},
   "outputs": [],
   "source": [
    "def calc_stats(filename):\n",
    "    image = io.imread(os.path.join(IMAGE_DIR, filename))\n",
    "    width = image.shape[0]\n",
    "    height = image.shape[1]\n",
    "    hsv_img = rgb2hsv(image)\n",
    "    hue_img = hsv_img[:, :, 0]\n",
    "    saturation_img = hsv_img[:,:, 1]\n",
    "    value_img = hsv_img[:, :, 2]\n",
    "    mean_hue = np.mean(hue_img)\n",
    "    mean_sat = np.mean(saturation_img)\n",
    "    mean_value = np.mean(value_img)\n",
    "    return [width, height, mean_hue, mean_sat, mean_value]"
   ]
  },
  {
   "cell_type": "code",
   "execution_count": null,
   "metadata": {},
   "outputs": [],
   "source": [
    "df = pd.DataFrame(columns = ['width', 'height', 'mean_hue', 'mean_saturation', 'mean_value'])\n",
    "for file in os.listdir(IMAGE_DIR):\n",
    "    if file.endswith('.jpg'):\n",
    "        data = calc_stats(file)\n",
    "        dicti = {'width': data[0], 'height': data[1], 'mean_hue': data[2], 'mean_saturation': data[3], 'mean_value': data[4]}\n",
    "        df = df.append(dicti, ignore_index=True)"
   ]
  },
  {
   "cell_type": "code",
   "execution_count": null,
   "metadata": {},
   "outputs": [],
   "source": [
    "def make_thumbnail(filename, imagepath, thumbnailpath):\n",
    "    path = os.path.join(imagepath, filename)\n",
    "    image = Image.open(path)\n",
    "    size = 256, 256\n",
    "    image.thumbnail(size)\n",
    "    image.save(os.path.join(thumbnailpath, filename))"
   ]
  },
  {
   "cell_type": "code",
   "execution_count": null,
   "metadata": {},
   "outputs": [],
   "source": [
    "THUMB_DIR = os.path.join(DATA_DIR, 'thumbnails-{artist}'.format(artist=artist_name))\n",
    "if not os.path.exists(THUMB_DIR):\n",
    "    os.makedirs(THUMB_DIR)"
   ]
  },
  {
   "cell_type": "code",
   "execution_count": null,
   "metadata": {},
   "outputs": [],
   "source": [
    "for file in os.listdir(IMAGE_DIR):\n",
    "    if file.endswith('.jpg'):  \n",
    "        make_thumbnail(file, IMAGE_DIR, THUMB_DIR)"
   ]
  },
  {
   "cell_type": "code",
   "execution_count": null,
   "metadata": {},
   "outputs": [],
   "source": [
    "num_bins = 10\n",
    "n, bins, patches = plt.hist(df['mean_value'], num_bins, facecolor='blue', alpha=0.5, )\n",
    "plt.xlabel('Average Values')\n",
    "plt.show()"
   ]
  },
  {
   "cell_type": "code",
   "execution_count": null,
   "metadata": {},
   "outputs": [],
   "source": [
    "num_bins = 10\n",
    "n, bins, patches = plt.hist(df['mean_hue'], num_bins, facecolor='blue', alpha=0.5, )\n",
    "plt.xlabel('Average Hues')\n",
    "plt.show()"
   ]
  },
  {
   "cell_type": "code",
   "execution_count": null,
   "metadata": {},
   "outputs": [],
   "source": [
    "num_bins = 10\n",
    "n, bins, patches = plt.hist(df['mean_saturation'], num_bins, facecolor='blue', alpha=0.5, )\n",
    "plt.xlabel('Average Saturation')\n",
    "plt.show()"
   ]
  },
  {
   "cell_type": "code",
   "execution_count": null,
   "metadata": {},
   "outputs": [],
   "source": [
    "num_bins = 10\n",
    "n, bins, patches = plt.hist(df['height'], num_bins, facecolor='blue', alpha=0.5, )\n",
    "plt.xlabel('Average Heights')\n",
    "plt.show()"
   ]
  },
  {
   "cell_type": "code",
   "execution_count": null,
   "metadata": {},
   "outputs": [],
   "source": [
    "num_bins = 10\n",
    "n, bins, patches = plt.hist(df['width'], num_bins, facecolor='blue', alpha=0.5, )\n",
    "plt.xlabel('Average Widths')\n",
    "plt.show()"
   ]
  },
  {
   "cell_type": "code",
   "execution_count": null,
   "metadata": {},
   "outputs": [],
   "source": [
    "fig, ax = plt.subplots(figsize=(10, 6))\n",
    "ax.scatter(x = df['mean_value'], y = df['mean_hue'])\n",
    "plt.xlabel(\"Average Value\")\n",
    "plt.ylabel(\"Average Hue\")\n",
    "plt.show()"
   ]
  },
  {
   "cell_type": "code",
   "execution_count": null,
   "metadata": {},
   "outputs": [],
   "source": [
    "'''# create background image\n",
    "GLOBAL_WIDTH = 7500\n",
    "bg_color = (192, 192, 192) # gray, you can choose your own\n",
    "figure = Image.new('RGB', (GLOBAL_WIDTH, GLOBAL_WIDTH), bg_color)\n",
    "num_points = 100'''"
   ]
  },
  {
   "cell_type": "code",
   "execution_count": null,
   "metadata": {},
   "outputs": [],
   "source": [
    "RESULT_DIR = os.path.join(DATA_DIR, 'results-{artist}'.format(artist=artist_name))\n",
    "if not os.path.exists(RESULT_DIR):\n",
    "    os.makedirs(RESULT_DIR)"
   ]
  },
  {
   "cell_type": "code",
   "execution_count": null,
   "metadata": {},
   "outputs": [],
   "source": [
    "thumbs = os.listdir(THUMB_DIR)"
   ]
  },
  {
   "cell_type": "code",
   "execution_count": null,
   "metadata": {},
   "outputs": [],
   "source": [
    "GLOBAL_WIDTH = 5000\n",
    "bg_color = (192, 192, 192)\n",
    "figure1 = Image.new('RGB', (GLOBAL_WIDTH, GLOBAL_WIDTH), bg_color)\n",
    "x_coords = (GLOBAL_WIDTH * df['mean_value']).apply(int)\n",
    "y_coords = (GLOBAL_WIDTH * df['mean_hue']).apply(int)\n",
    "for i in range(len(thumbs)):\n",
    "    thumb_img = Image.open(os.path.join(THUMB_DIR, thumbs[i]))\n",
    "    figure1.paste(thumb_img, (x_coords[i], y_coords[i]))"
   ]
  },
  {
   "cell_type": "code",
   "execution_count": null,
   "metadata": {},
   "outputs": [],
   "source": [
    "figure1.save(os.path.join(RESULT_DIR, 'brightness_vs_hue.jpg'))"
   ]
  },
  {
   "cell_type": "code",
   "execution_count": null,
   "metadata": {},
   "outputs": [],
   "source": [
    "bg_color = (192, 192, 192)\n",
    "figure2 = Image.new('RGB', (GLOBAL_WIDTH, GLOBAL_WIDTH), bg_color)\n",
    "x_coords = (GLOBAL_WIDTH * df['mean_saturation']).apply(int)\n",
    "y_coords = (GLOBAL_WIDTH * df['mean_hue']).apply(int)\n",
    "for i in range(len(thumbs)):\n",
    "    thumb_img = Image.open(os.path.join(THUMB_DIR, thumbs[i]))\n",
    "    figure2.paste(thumb_img, (x_coords[i], y_coords[i]))"
   ]
  },
  {
   "cell_type": "code",
   "execution_count": null,
   "metadata": {},
   "outputs": [],
   "source": [
    "figure2.save(os.path.join(RESULT_DIR, 'saturation_vs_hue.jpg'))"
   ]
  },
  {
   "cell_type": "code",
   "execution_count": null,
   "metadata": {},
   "outputs": [],
   "source": [
    "def calc_adv_stats(filename):\n",
    "    image = io.imread(os.path.join(IMAGE_DIR, filename))\n",
    "    gray_img = rgb2gray(image)\n",
    "    entr_img = entropy(gray_img, disk(10))\n",
    "    \n",
    "    arr = np.array(image, dtype = int)\n",
    "\n",
    "    deltaX2 = np.square(np.roll(arr, -1, axis = 0) - np.roll(arr, 1, axis = 0))\n",
    "\n",
    "    deltaY2 = np.square(np.roll(arr, -1, axis = 1) - np.roll(arr, 1, axis = 1))\n",
    "\n",
    "    dualEnergy = np.sum(deltaX2, axis = 2) + np.sum(deltaY2, axis = 2)\n",
    "    \n",
    "    mean_entr = np.mean(entr_img)\n",
    "    mean_ener = np.mean(dualEnergy)\n",
    "    return [mean_entr, mean_ener]"
   ]
  },
  {
   "cell_type": "code",
   "execution_count": null,
   "metadata": {},
   "outputs": [],
   "source": [
    "df2 = pd.DataFrame(columns = ['mean_entr', 'mean_ener'])\n",
    "for file in os.listdir(IMAGE_DIR):\n",
    "    if file.endswith('.jpg'):\n",
    "        data = calc_adv_stats(file)\n",
    "        dicti = {'mean_entr': data[0], 'mean_ener': data[1]}\n",
    "        df2 = df2.append(dicti, ignore_index=True)"
   ]
  },
  {
   "cell_type": "code",
   "execution_count": null,
   "metadata": {},
   "outputs": [],
   "source": [
    "#normalizing for purpose of graphing\n",
    "normalized_entr = ((df2['mean_entr'] - df2['mean_entr'].min())/(df2['mean_entr'].max()-df2['mean_entr'].min()))\n",
    "normalized_ener = ((df2['mean_ener'] - df2['mean_ener'].min())/(df2['mean_ener'].max()-df2['mean_ener'].min()))"
   ]
  },
  {
   "cell_type": "code",
   "execution_count": null,
   "metadata": {},
   "outputs": [],
   "source": [
    "bg_color = (192, 192, 192)\n",
    "figure3 = Image.new('RGB', (GLOBAL_WIDTH, GLOBAL_WIDTH), bg_color)\n",
    "x_coords = (GLOBAL_WIDTH * normalized_entr).apply(int)\n",
    "y_coords = (GLOBAL_WIDTH * normalized_ener).apply(int)\n",
    "for i in range(len(thumbs)):\n",
    "    thumb_img = Image.open(os.path.join(THUMB_DIR, thumbs[i]))\n",
    "    figure3.paste(thumb_img, (x_coords[i], y_coords[i]))"
   ]
  },
  {
   "cell_type": "code",
   "execution_count": null,
   "metadata": {},
   "outputs": [],
   "source": [
    "figure3.save(os.path.join(RESULT_DIR, \"mean_entr vs mean_ener.jpg\"))"
   ]
  },
  {
   "cell_type": "code",
   "execution_count": null,
   "metadata": {},
   "outputs": [],
   "source": [
    "from sklearn.preprocessing import StandardScaler"
   ]
  },
  {
   "cell_type": "code",
   "execution_count": null,
   "metadata": {},
   "outputs": [],
   "source": [
    "from sklearn import *"
   ]
  },
  {
   "cell_type": "code",
   "execution_count": null,
   "metadata": {},
   "outputs": [],
   "source": [
    "scaler = sklearn.preprocessing.StandardScaler()\n",
    "features = scaler.fit_transform(df)"
   ]
  },
  {
   "cell_type": "code",
   "execution_count": null,
   "metadata": {},
   "outputs": [],
   "source": [
    "labels = np.concatenate((np.zeros(int(len(features)/2)), np.ones(int(len(features)/2))))"
   ]
  },
  {
   "cell_type": "code",
   "execution_count": null,
   "metadata": {},
   "outputs": [],
   "source": [
    "model = sklearn.svm.SVC()\n",
    "model.fit(features, labels)"
   ]
  },
  {
   "cell_type": "code",
   "execution_count": null,
   "metadata": {},
   "outputs": [],
   "source": []
  }
 ],
 "metadata": {
  "kernelspec": {
   "display_name": "Python 3",
   "language": "python",
   "name": "python3"
  },
  "language_info": {
   "codemirror_mode": {
    "name": "ipython",
    "version": 3
   },
   "file_extension": ".py",
   "mimetype": "text/x-python",
   "name": "python",
   "nbconvert_exporter": "python",
   "pygments_lexer": "ipython3",
   "version": "3.8.5"
  }
 },
 "nbformat": 4,
 "nbformat_minor": 4
}
