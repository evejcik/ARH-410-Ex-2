{
 "cells": [
  {
   "cell_type": "code",
   "execution_count": 1,
   "metadata": {},
   "outputs": [],
   "source": [
    "import pandas as pd\n",
    "import numpy as np"
   ]
  },
  {
   "cell_type": "code",
   "execution_count": 2,
   "metadata": {},
   "outputs": [],
   "source": [
    "df = pd.DataFrame()"
   ]
  },
  {
   "cell_type": "code",
   "execution_count": 3,
   "metadata": {},
   "outputs": [],
   "source": [
    "from skimage import io\n",
    "import skimage"
   ]
  },
  {
   "cell_type": "code",
   "execution_count": 4,
   "metadata": {},
   "outputs": [],
   "source": [
    "import os"
   ]
  },
  {
   "cell_type": "code",
   "execution_count": 5,
   "metadata": {},
   "outputs": [],
   "source": [
    "entries = os.listdir('Desktop/art_scraping/data/mark-rothko')"
   ]
  },
  {
   "cell_type": "code",
   "execution_count": 6,
   "metadata": {},
   "outputs": [
    {
     "data": {
      "text/plain": [
       "['yellow-cherry-orange.jpg',\n",
       " 'ochre-and-red-on-red-1.jpg',\n",
       " 'untitled-1968-1.jpg',\n",
       " 'no-1-untitled.jpg',\n",
       " 'untitled-7.jpg',\n",
       " 'not_detected_242137.jpg',\n",
       " 'cat-newyork.jpg',\n",
       " 'not_detected_242122.jpg',\n",
       " 'not_detected_242136.jpg',\n",
       " 'no-37-no-19-slate-blue-and-brown-on-plum-1958.jpg',\n",
       " 'untitled-6(1).jpg',\n",
       " 'untitled-late-1920s.jpg',\n",
       " 'untitled-1968-2.jpg',\n",
       " 'ochre-and-red-on-red-2.jpg',\n",
       " 'black-on-maroon.jpg',\n",
       " 'interior.jpg',\n",
       " 'not_detected_242120.jpg',\n",
       " 'red-white-and-brown.jpg',\n",
       " 'not_detected_242135.jpg',\n",
       " 'not_detected_242121.jpg',\n",
       " 'untitled-brown-and-gray.jpg',\n",
       " 'untitled-5.jpg',\n",
       " 'blue-and-gray.jpg',\n",
       " 'untitled-1.jpg',\n",
       " 'untitled-1948-2.jpg',\n",
       " 'not_detected_242119.jpg',\n",
       " 'not_detected_242125.jpg',\n",
       " 'not_detected_242131.jpg',\n",
       " 'not_detected_242124.jpg',\n",
       " 'not_detected_242118.jpg',\n",
       " 'sacrifice-of-iphigenia.jpg',\n",
       " 'untitled-1969-1(1).jpg',\n",
       " 'untitled-red-blue-orange-1955.jpg',\n",
       " 'untitled-2.jpg',\n",
       " 'untitled-1948-1.jpg',\n",
       " 'green-and-maroon.jpg',\n",
       " 'aubade.jpg',\n",
       " 'no-20-1957.jpg',\n",
       " 'rites-of-lilith.jpg',\n",
       " 'not_detected_242132.jpg',\n",
       " 'not_detected_242126.jpg',\n",
       " 'hierarchical-birds.jpg',\n",
       " 'no-9.jpg',\n",
       " 'untitled-4(1).jpg',\n",
       " 'black-red-and-black-1968.jpg',\n",
       " 'four-darks-in-red-1958.jpg',\n",
       " 'untitled-3.jpg',\n",
       " 'no-9-1947.jpg',\n",
       " 'untitled-subway.jpg',\n",
       " 'yellow-band.jpg',\n",
       " 'untitled-19.jpg',\n",
       " 'untitled-1969-2.jpg',\n",
       " 'not_detected_242140.jpg',\n",
       " 'not_detected_242141.jpg',\n",
       " 'orange-red-orange-1961.jpg',\n",
       " 'lavender-and-mulberry.jpg',\n",
       " 'untitled-18.jpg',\n",
       " 'no-1-royal-red-and-blue-1954.jpg',\n",
       " 'no-8-1952.jpg',\n",
       " 'no-3-no-13.jpg',\n",
       " 'number-24-untitled-1951.jpg',\n",
       " 'untitled-1955.jpg',\n",
       " 'untitled-1969.jpg',\n",
       " 'purple-brown.jpg',\n",
       " 'no-3-1953.jpg',\n",
       " 'archaic-idol.jpg',\n",
       " 'untitled-1968.jpg',\n",
       " 'underground-fantasy.jpg',\n",
       " 'earth-green.jpg',\n",
       " 'no-7-1964.jpg',\n",
       " 'black-on-dark-sienna-on-purple.jpg',\n",
       " 'no-21.jpg',\n",
       " 'untitled-1949-1.jpg',\n",
       " 'no-19.jpg',\n",
       " 'black-in-deep-red-1957.jpg',\n",
       " 'orange-and-yellow(1).jpg',\n",
       " 'no-18.jpg',\n",
       " 'no-17-1961(1).jpg',\n",
       " 'no-24.jpg',\n",
       " 'red-on-maroon.jpg',\n",
       " 'light-red-over-black-1957.jpg',\n",
       " 'restricted.jpg',\n",
       " 'red-and-orange.jpg',\n",
       " 'red-1968.jpg',\n",
       " 'white-on-red(1).jpg',\n",
       " 'self-portrait.jpg',\n",
       " 'untitled-no-11-1957.jpg',\n",
       " 'untitled-14b.jpg',\n",
       " 'untitled-red-brown-black-green-red-1962.jpg',\n",
       " 'no-46(1).jpg',\n",
       " 'no-5-no-22.jpg',\n",
       " 'untitled-10.jpg',\n",
       " 'tentacles-of-memory.jpg',\n",
       " 'no-2-1964.jpg',\n",
       " 'untitled-11.jpg',\n",
       " 'cubierta.jpg',\n",
       " 'untitled-13.jpg',\n",
       " 'untitled-1948.jpg',\n",
       " 'street-scene.jpg',\n",
       " 'no-3-1967.jpg',\n",
       " 'untitled-1949.jpg',\n",
       " 'no-16-1957.jpg',\n",
       " 'untitled-three-nudes-19331934.jpg',\n",
       " 'untitled-12.jpg',\n",
       " 'no-8-1964.jpg',\n",
       " 'no-5-no-24.jpg',\n",
       " 'untitled-16.jpg',\n",
       " 'composition-i-1931.jpg',\n",
       " 'no-10.jpg',\n",
       " 'untitled-1959.jpg',\n",
       " 'primeval-landscape.jpg',\n",
       " 'violet-black-orange-yellow-on-white-and-red.jpg',\n",
       " 'rothko-chapel.jpg',\n",
       " 'untitled-black-and-gray.jpg',\n",
       " 'untitled-1970.jpg',\n",
       " 'composition-1958.jpg',\n",
       " 'entance-to-subway.jpg',\n",
       " 'no-2-no-7-and-no-2-1951.jpg',\n",
       " 'no-11.jpg',\n",
       " 'untitled-17.jpg',\n",
       " 'untitled-gray-and-mauve-1969.jpg',\n",
       " 'untitled-15.jpg',\n",
       " 'no-13.jpg',\n",
       " 'untitled-1967.jpg',\n",
       " 'united-blue-yellow-green-on-red-1954.jpg',\n",
       " 'untitled-14.jpg',\n",
       " 'blue-over-red-1953.jpg',\n",
       " 'black-on-maroon-2.jpg',\n",
       " 'untitled.jpg',\n",
       " 'not_detected_242116.jpg',\n",
       " 'ochre-and-red-on-red.jpg',\n",
       " 'white-center.jpg',\n",
       " 'not_detected_242117.jpg',\n",
       " 'lazy-load-placeholder.png',\n",
       " 'black-on-maroon-3.jpg',\n",
       " 'black-on-maroon-1.jpg',\n",
       " 'rural-scene.jpg',\n",
       " 'untitled-red-1956.jpg',\n",
       " 'not_detected_242115.jpg',\n",
       " 'not_detected_242129.jpg',\n",
       " 'blue-orange-red.jpg',\n",
       " 'not_detected_242128.jpg',\n",
       " 'untitled-blue-divided-by-blue-1966.jpg',\n",
       " 'red-and-brown.jpg',\n",
       " 'slow-swirl-at-the-edge-of-the-sea(1).jpg',\n",
       " 'untitled-8.jpg',\n",
       " 'untitled-green-on-blue-1968.jpg',\n",
       " 'black-on-maroon-4.jpg',\n",
       " 'multiform-1948.jpg',\n",
       " 'untitled-blue-green-and-brown-1952.jpg',\n",
       " 'no-2.jpg',\n",
       " 'orange-over-violet-1968.jpg',\n",
       " 'no-7-dark-over-light-1954.jpg',\n",
       " 'not_detected_242139.jpg',\n",
       " 'no-4-1964.jpg',\n",
       " 'no-5-1964.jpg',\n",
       " 'untitled-mural-for-end-wall.jpg',\n",
       " 'no-6-yellow-white-blue-over-yellow-on-gray-1954.jpg',\n",
       " 'untitled-9.jpg',\n",
       " 'green-and-tangerine-on-red.jpg',\n",
       " 'untitled-yellow-red-and-blue-1953.jpg',\n",
       " '1.jpg',\n",
       " 'no-9-dark-over-light-earth.jpg',\n",
       " 'rothko-chapel-1967.jpg',\n",
       " 'no-14-1960.jpg',\n",
       " 'no-1.jpg',\n",
       " 'untitled-red-and-orange-on-salmon-1969.jpg',\n",
       " 'red.jpg',\n",
       " 'no-301.jpg',\n",
       " 'no-14-horizontals-white-over-darks-1961.jpg']"
      ]
     },
     "execution_count": 6,
     "metadata": {},
     "output_type": "execute_result"
    }
   ],
   "source": [
    "os.listdir('Desktop/art_scraping/data/mark-rothko')"
   ]
  },
  {
   "cell_type": "code",
   "execution_count": 7,
   "metadata": {},
   "outputs": [
    {
     "name": "stdout",
     "output_type": "stream",
     "text": [
      "yellow-cherry-orange.jpg\n",
      "ochre-and-red-on-red-1.jpg\n",
      "untitled-1968-1.jpg\n",
      "no-1-untitled.jpg\n",
      "untitled-7.jpg\n",
      "not_detected_242137.jpg\n",
      "cat-newyork.jpg\n",
      "not_detected_242122.jpg\n",
      "not_detected_242136.jpg\n",
      "no-37-no-19-slate-blue-and-brown-on-plum-1958.jpg\n",
      "untitled-6(1).jpg\n",
      "untitled-late-1920s.jpg\n",
      "untitled-1968-2.jpg\n",
      "ochre-and-red-on-red-2.jpg\n",
      "black-on-maroon.jpg\n",
      "interior.jpg\n",
      "not_detected_242120.jpg\n",
      "red-white-and-brown.jpg\n",
      "not_detected_242135.jpg\n",
      "not_detected_242121.jpg\n",
      "untitled-brown-and-gray.jpg\n",
      "untitled-5.jpg\n",
      "blue-and-gray.jpg\n",
      "untitled-1.jpg\n",
      "untitled-1948-2.jpg\n",
      "not_detected_242119.jpg\n",
      "not_detected_242125.jpg\n",
      "not_detected_242131.jpg\n",
      "not_detected_242124.jpg\n",
      "not_detected_242118.jpg\n",
      "sacrifice-of-iphigenia.jpg\n",
      "untitled-1969-1(1).jpg\n",
      "untitled-red-blue-orange-1955.jpg\n",
      "untitled-2.jpg\n",
      "untitled-1948-1.jpg\n",
      "green-and-maroon.jpg\n",
      "aubade.jpg\n",
      "no-20-1957.jpg\n",
      "rites-of-lilith.jpg\n",
      "not_detected_242132.jpg\n",
      "not_detected_242126.jpg\n",
      "hierarchical-birds.jpg\n",
      "no-9.jpg\n",
      "untitled-4(1).jpg\n",
      "black-red-and-black-1968.jpg\n",
      "four-darks-in-red-1958.jpg\n",
      "untitled-3.jpg\n",
      "no-9-1947.jpg\n",
      "untitled-subway.jpg\n",
      "yellow-band.jpg\n",
      "untitled-19.jpg\n",
      "untitled-1969-2.jpg\n",
      "not_detected_242140.jpg\n",
      "not_detected_242141.jpg\n",
      "orange-red-orange-1961.jpg\n",
      "lavender-and-mulberry.jpg\n",
      "untitled-18.jpg\n",
      "no-1-royal-red-and-blue-1954.jpg\n",
      "no-8-1952.jpg\n",
      "no-3-no-13.jpg\n",
      "number-24-untitled-1951.jpg\n",
      "untitled-1955.jpg\n",
      "untitled-1969.jpg\n",
      "purple-brown.jpg\n",
      "no-3-1953.jpg\n",
      "archaic-idol.jpg\n",
      "untitled-1968.jpg\n",
      "underground-fantasy.jpg\n",
      "earth-green.jpg\n",
      "no-7-1964.jpg\n",
      "black-on-dark-sienna-on-purple.jpg\n",
      "no-21.jpg\n",
      "untitled-1949-1.jpg\n",
      "no-19.jpg\n",
      "black-in-deep-red-1957.jpg\n",
      "orange-and-yellow(1).jpg\n",
      "no-18.jpg\n",
      "no-17-1961(1).jpg\n",
      "no-24.jpg\n",
      "red-on-maroon.jpg\n",
      "light-red-over-black-1957.jpg\n",
      "restricted.jpg\n",
      "red-and-orange.jpg\n",
      "red-1968.jpg\n",
      "white-on-red(1).jpg\n",
      "self-portrait.jpg\n",
      "untitled-no-11-1957.jpg\n",
      "untitled-14b.jpg\n",
      "untitled-red-brown-black-green-red-1962.jpg\n",
      "no-46(1).jpg\n",
      "no-5-no-22.jpg\n",
      "untitled-10.jpg\n",
      "tentacles-of-memory.jpg\n",
      "no-2-1964.jpg\n",
      "untitled-11.jpg\n",
      "cubierta.jpg\n",
      "untitled-13.jpg\n",
      "untitled-1948.jpg\n",
      "street-scene.jpg\n",
      "no-3-1967.jpg\n",
      "untitled-1949.jpg\n",
      "no-16-1957.jpg\n",
      "untitled-three-nudes-19331934.jpg\n",
      "untitled-12.jpg\n",
      "no-8-1964.jpg\n",
      "no-5-no-24.jpg\n",
      "untitled-16.jpg\n",
      "composition-i-1931.jpg\n",
      "no-10.jpg\n",
      "untitled-1959.jpg\n",
      "primeval-landscape.jpg\n",
      "violet-black-orange-yellow-on-white-and-red.jpg\n",
      "rothko-chapel.jpg\n",
      "untitled-black-and-gray.jpg\n",
      "untitled-1970.jpg\n",
      "composition-1958.jpg\n",
      "entance-to-subway.jpg\n",
      "no-2-no-7-and-no-2-1951.jpg\n",
      "no-11.jpg\n",
      "untitled-17.jpg\n",
      "untitled-gray-and-mauve-1969.jpg\n",
      "untitled-15.jpg\n",
      "no-13.jpg\n",
      "untitled-1967.jpg\n",
      "united-blue-yellow-green-on-red-1954.jpg\n",
      "untitled-14.jpg\n",
      "blue-over-red-1953.jpg\n",
      "black-on-maroon-2.jpg\n",
      "untitled.jpg\n",
      "not_detected_242116.jpg\n",
      "ochre-and-red-on-red.jpg\n",
      "white-center.jpg\n",
      "not_detected_242117.jpg\n",
      "lazy-load-placeholder.png\n",
      "black-on-maroon-3.jpg\n",
      "black-on-maroon-1.jpg\n",
      "rural-scene.jpg\n",
      "untitled-red-1956.jpg\n",
      "not_detected_242115.jpg\n",
      "not_detected_242129.jpg\n",
      "blue-orange-red.jpg\n",
      "not_detected_242128.jpg\n",
      "untitled-blue-divided-by-blue-1966.jpg\n",
      "red-and-brown.jpg\n",
      "slow-swirl-at-the-edge-of-the-sea(1).jpg\n",
      "untitled-8.jpg\n",
      "untitled-green-on-blue-1968.jpg\n",
      "black-on-maroon-4.jpg\n",
      "multiform-1948.jpg\n",
      "untitled-blue-green-and-brown-1952.jpg\n",
      "no-2.jpg\n",
      "orange-over-violet-1968.jpg\n",
      "no-7-dark-over-light-1954.jpg\n",
      "not_detected_242139.jpg\n",
      "no-4-1964.jpg\n",
      "no-5-1964.jpg\n",
      "untitled-mural-for-end-wall.jpg\n",
      "no-6-yellow-white-blue-over-yellow-on-gray-1954.jpg\n",
      "untitled-9.jpg\n",
      "green-and-tangerine-on-red.jpg\n",
      "untitled-yellow-red-and-blue-1953.jpg\n",
      "1.jpg\n",
      "no-9-dark-over-light-earth.jpg\n",
      "rothko-chapel-1967.jpg\n",
      "no-14-1960.jpg\n",
      "no-1.jpg\n",
      "untitled-red-and-orange-on-salmon-1969.jpg\n",
      "red.jpg\n",
      "no-301.jpg\n",
      "no-14-horizontals-white-over-darks-1961.jpg\n"
     ]
    }
   ],
   "source": [
    "with os.scandir('Desktop/art_scraping/data/mark-rothko') as entries:\n",
    "    for entry in entries:\n",
    "        print(entry.name)   "
   ]
  },
  {
   "cell_type": "code",
   "execution_count": 8,
   "metadata": {},
   "outputs": [],
   "source": [
    "df['filename'] = os.listdir('Desktop/art_scraping/data/mark-rothko')\n",
    "#df"
   ]
  },
  {
   "cell_type": "code",
   "execution_count": 9,
   "metadata": {},
   "outputs": [],
   "source": [
    "#filename = os.path.join('Desktop/art_scraping/data/mark-rothko', 'untitled-1970.jpg')\n",
    "#camera = io.imread(filename)"
   ]
  },
  {
   "cell_type": "code",
   "execution_count": 10,
   "metadata": {},
   "outputs": [],
   "source": [
    "#camera.shape"
   ]
  },
  {
   "cell_type": "code",
   "execution_count": 11,
   "metadata": {},
   "outputs": [],
   "source": [
    "def width(pic):\n",
    "    width_tuple = pic.shape\n",
    "    #print(width_tuple[1])\n",
    "    return width_tuple[1]"
   ]
  },
  {
   "cell_type": "code",
   "execution_count": 12,
   "metadata": {},
   "outputs": [],
   "source": [
    "#width(camera)"
   ]
  },
  {
   "cell_type": "code",
   "execution_count": 13,
   "metadata": {},
   "outputs": [],
   "source": [
    "def height(pic):\n",
    "    height_tuple = pic.shape\n",
    "    #print(height_tuple[0])\n",
    "    return height_tuple[0]"
   ]
  },
  {
   "cell_type": "code",
   "execution_count": 14,
   "metadata": {},
   "outputs": [],
   "source": [
    "#height(camera)"
   ]
  },
  {
   "cell_type": "code",
   "execution_count": 15,
   "metadata": {},
   "outputs": [],
   "source": [
    "import matplotlib.pyplot as plt"
   ]
  },
  {
   "cell_type": "code",
   "execution_count": 16,
   "metadata": {},
   "outputs": [],
   "source": [
    "from skimage import data\n",
    "from skimage.color import rgb2hsv"
   ]
  },
  {
   "cell_type": "code",
   "execution_count": 17,
   "metadata": {},
   "outputs": [],
   "source": [
    "def hue(pic):\n",
    "    rgb_img = pic\n",
    "    hsv_img = rgb2hsv(rgb_img)\n",
    "    \n",
    "    hue_img = hsv_img[:, :, 0]\n",
    "    saturation_img = hsv_img[:,:, 1]\n",
    "    value_img = hsv_img[:, :, 2]\n",
    "    \n",
    "    mean_hue = np.mean(hue_img, axis=(0,1))\n",
    "    #print(np.mean(hue_img, axis=(0,1)))\n",
    "    return mean_hue"
   ]
  },
  {
   "cell_type": "code",
   "execution_count": 1,
   "metadata": {},
   "outputs": [
    {
     "name": "stdout",
     "output_type": "stream",
     "text": [
      "Object `rgb2hsv` not found.\n"
     ]
    }
   ],
   "source": [
    "#hue(camera)\n",
    "?rgb2hsv\n"
   ]
  },
  {
   "cell_type": "code",
   "execution_count": 19,
   "metadata": {},
   "outputs": [],
   "source": [
    "def saturation(pic):\n",
    "    rgb_img = pic\n",
    "    hsv_img = rgb2hsv(rgb_img)\n",
    "    \n",
    "    hue_img = hsv_img[:, :, 0]\n",
    "    saturation_img = hsv_img[:,:, 1]\n",
    "    value_img = hsv_img[:, :, 2]\n",
    "    mean_saturation = np.mean(saturation_img, axis=(0,1))\n",
    "    #print(np.mean(saturation_img, axis=(0,1)))\n",
    "    return mean_saturation"
   ]
  },
  {
   "cell_type": "code",
   "execution_count": 20,
   "metadata": {},
   "outputs": [],
   "source": [
    "#saturation(camera)"
   ]
  },
  {
   "cell_type": "code",
   "execution_count": 21,
   "metadata": {},
   "outputs": [],
   "source": [
    "def value(pic):\n",
    "    rgb_img = pic\n",
    "    hsv_img = rgb2hsv(rgb_img)\n",
    "    \n",
    "    hue_img = hsv_img[:, :, 0]\n",
    "    saturation_img = hsv_img[:,:, 1]\n",
    "    value_img = hsv_img[:, :, 2]\n",
    "    \n",
    "    mean_brightness = np.mean(value_img)\n",
    "    #print(np.mean(value_img))\n",
    "    return mean_brightness"
   ]
  },
  {
   "cell_type": "code",
   "execution_count": 22,
   "metadata": {},
   "outputs": [],
   "source": [
    "#value(camera)"
   ]
  },
  {
   "cell_type": "code",
   "execution_count": 23,
   "metadata": {},
   "outputs": [],
   "source": [
    "def calc_and_stats(pic):\n",
    "    width(pic)\n",
    "    height(pic)\n",
    "    hue(pic)\n",
    "    saturation(pic)\n",
    "    value(pic)"
   ]
  },
  {
   "cell_type": "code",
   "execution_count": 24,
   "metadata": {},
   "outputs": [],
   "source": [
    "widths = []\n",
    "heights = []\n",
    "hues = []\n",
    "saturations = []\n",
    "values = []"
   ]
  },
  {
   "cell_type": "code",
   "execution_count": 25,
   "metadata": {},
   "outputs": [],
   "source": [
    "with os.scandir('Desktop/art_scraping/data/mark-rothko') as entries:\n",
    "    for entry in entries:\n",
    "        #print(entry)\n",
    "        #value(entry)        \n",
    "        filename = os.path.join('Desktop/art_scraping/data/mark-rothko', entry.name)\n",
    "        camera = io.imread(filename)\n",
    "        width(camera)\n",
    "        widths.append(width(camera))\n",
    "        height(camera)\n",
    "        heights.append(height(camera))\n",
    "        hue(camera)\n",
    "        hues.append(hue(camera))\n",
    "        saturation(camera)\n",
    "        saturations.append(saturation(camera))\n",
    "        value(camera)\n",
    "        values.append(value(camera))"
   ]
  },
  {
   "cell_type": "code",
   "execution_count": 26,
   "metadata": {},
   "outputs": [],
   "source": [
    "df['width']=widths\n",
    "df['height']=heights\n",
    "df['hue']=hues\n",
    "df['saturation']=saturations\n",
    "df['value']=values"
   ]
  },
  {
   "cell_type": "code",
   "execution_count": 27,
   "metadata": {},
   "outputs": [
    {
     "data": {
      "text/html": [
       "<div>\n",
       "<style scoped>\n",
       "    .dataframe tbody tr th:only-of-type {\n",
       "        vertical-align: middle;\n",
       "    }\n",
       "\n",
       "    .dataframe tbody tr th {\n",
       "        vertical-align: top;\n",
       "    }\n",
       "\n",
       "    .dataframe thead th {\n",
       "        text-align: right;\n",
       "    }\n",
       "</style>\n",
       "<table border=\"1\" class=\"dataframe\">\n",
       "  <thead>\n",
       "    <tr style=\"text-align: right;\">\n",
       "      <th></th>\n",
       "      <th>filename</th>\n",
       "      <th>width</th>\n",
       "      <th>height</th>\n",
       "      <th>hue</th>\n",
       "      <th>saturation</th>\n",
       "      <th>value</th>\n",
       "    </tr>\n",
       "  </thead>\n",
       "  <tbody>\n",
       "    <tr>\n",
       "      <th>0</th>\n",
       "      <td>yellow-cherry-orange.jpg</td>\n",
       "      <td>469</td>\n",
       "      <td>771</td>\n",
       "      <td>0.378785</td>\n",
       "      <td>0.718440</td>\n",
       "      <td>0.735384</td>\n",
       "    </tr>\n",
       "    <tr>\n",
       "      <th>1</th>\n",
       "      <td>ochre-and-red-on-red-1.jpg</td>\n",
       "      <td>640</td>\n",
       "      <td>666</td>\n",
       "      <td>0.325048</td>\n",
       "      <td>0.822885</td>\n",
       "      <td>0.858201</td>\n",
       "    </tr>\n",
       "    <tr>\n",
       "      <th>2</th>\n",
       "      <td>untitled-1968-1.jpg</td>\n",
       "      <td>409</td>\n",
       "      <td>640</td>\n",
       "      <td>0.781843</td>\n",
       "      <td>0.493249</td>\n",
       "      <td>0.204466</td>\n",
       "    </tr>\n",
       "    <tr>\n",
       "      <th>3</th>\n",
       "      <td>no-1-untitled.jpg</td>\n",
       "      <td>520</td>\n",
       "      <td>474</td>\n",
       "      <td>0.132275</td>\n",
       "      <td>0.340141</td>\n",
       "      <td>0.822457</td>\n",
       "    </tr>\n",
       "    <tr>\n",
       "      <th>4</th>\n",
       "      <td>untitled-7.jpg</td>\n",
       "      <td>547</td>\n",
       "      <td>700</td>\n",
       "      <td>0.104240</td>\n",
       "      <td>0.845901</td>\n",
       "      <td>0.844397</td>\n",
       "    </tr>\n",
       "    <tr>\n",
       "      <th>...</th>\n",
       "      <td>...</td>\n",
       "      <td>...</td>\n",
       "      <td>...</td>\n",
       "      <td>...</td>\n",
       "      <td>...</td>\n",
       "      <td>...</td>\n",
       "    </tr>\n",
       "    <tr>\n",
       "      <th>165</th>\n",
       "      <td>no-1.jpg</td>\n",
       "      <td>666</td>\n",
       "      <td>800</td>\n",
       "      <td>0.250040</td>\n",
       "      <td>0.740983</td>\n",
       "      <td>0.749033</td>\n",
       "    </tr>\n",
       "    <tr>\n",
       "      <th>166</th>\n",
       "      <td>untitled-red-and-orange-on-salmon-1969.jpg</td>\n",
       "      <td>350</td>\n",
       "      <td>467</td>\n",
       "      <td>0.036489</td>\n",
       "      <td>0.747362</td>\n",
       "      <td>0.749019</td>\n",
       "    </tr>\n",
       "    <tr>\n",
       "      <th>167</th>\n",
       "      <td>red.jpg</td>\n",
       "      <td>580</td>\n",
       "      <td>843</td>\n",
       "      <td>0.371789</td>\n",
       "      <td>0.876166</td>\n",
       "      <td>0.570616</td>\n",
       "    </tr>\n",
       "    <tr>\n",
       "      <th>168</th>\n",
       "      <td>no-301.jpg</td>\n",
       "      <td>520</td>\n",
       "      <td>600</td>\n",
       "      <td>0.352627</td>\n",
       "      <td>0.929237</td>\n",
       "      <td>0.698300</td>\n",
       "    </tr>\n",
       "    <tr>\n",
       "      <th>169</th>\n",
       "      <td>no-14-horizontals-white-over-darks-1961.jpg</td>\n",
       "      <td>500</td>\n",
       "      <td>302</td>\n",
       "      <td>0.279773</td>\n",
       "      <td>0.129740</td>\n",
       "      <td>0.331725</td>\n",
       "    </tr>\n",
       "  </tbody>\n",
       "</table>\n",
       "<p>170 rows × 6 columns</p>\n",
       "</div>"
      ],
      "text/plain": [
       "                                        filename  width  height       hue  \\\n",
       "0                       yellow-cherry-orange.jpg    469     771  0.378785   \n",
       "1                     ochre-and-red-on-red-1.jpg    640     666  0.325048   \n",
       "2                            untitled-1968-1.jpg    409     640  0.781843   \n",
       "3                              no-1-untitled.jpg    520     474  0.132275   \n",
       "4                                 untitled-7.jpg    547     700  0.104240   \n",
       "..                                           ...    ...     ...       ...   \n",
       "165                                     no-1.jpg    666     800  0.250040   \n",
       "166   untitled-red-and-orange-on-salmon-1969.jpg    350     467  0.036489   \n",
       "167                                      red.jpg    580     843  0.371789   \n",
       "168                                   no-301.jpg    520     600  0.352627   \n",
       "169  no-14-horizontals-white-over-darks-1961.jpg    500     302  0.279773   \n",
       "\n",
       "     saturation     value  \n",
       "0      0.718440  0.735384  \n",
       "1      0.822885  0.858201  \n",
       "2      0.493249  0.204466  \n",
       "3      0.340141  0.822457  \n",
       "4      0.845901  0.844397  \n",
       "..          ...       ...  \n",
       "165    0.740983  0.749033  \n",
       "166    0.747362  0.749019  \n",
       "167    0.876166  0.570616  \n",
       "168    0.929237  0.698300  \n",
       "169    0.129740  0.331725  \n",
       "\n",
       "[170 rows x 6 columns]"
      ]
     },
     "execution_count": 27,
     "metadata": {},
     "output_type": "execute_result"
    }
   ],
   "source": [
    "df"
   ]
  },
  {
   "cell_type": "code",
   "execution_count": 28,
   "metadata": {},
   "outputs": [],
   "source": [
    "%matplotlib inline"
   ]
  },
  {
   "cell_type": "code",
   "execution_count": 29,
   "metadata": {},
   "outputs": [],
   "source": [
    "import matplotlib.mlab as mlab\n",
    "import matplotlib.pyplot as plt"
   ]
  },
  {
   "cell_type": "code",
   "execution_count": 30,
   "metadata": {},
   "outputs": [
    {
     "data": {
      "image/png": "[encoded data removed]",
      "text/plain": [
       "<Figure size 432x288 with 1 Axes>"
      ]
     },
     "metadata": {
      "needs_background": "light"
     },
     "output_type": "display_data"
    }
   ],
   "source": [
    "num_bins = 10\n",
    "n, bins, patches = plt.hist(df['value'], num_bins, facecolor='blue', alpha=0.5, )\n",
    "plt.xlabel('Average Values')\n",
    "plt.show()"
   ]
  },
  {
   "cell_type": "code",
   "execution_count": 31,
   "metadata": {},
   "outputs": [
    {
     "data": {
      "image/png": "[encoded data removed]",
      "text/plain": [
       "<Figure size 432x288 with 1 Axes>"
      ]
     },
     "metadata": {
      "needs_background": "light"
     },
     "output_type": "display_data"
    }
   ],
   "source": [
    "num_bins = 10\n",
    "n, bins, patches = plt.hist(df['hue'], num_bins, facecolor='blue', alpha=0.5, )\n",
    "plt.xlabel('Average Hues')\n",
    "plt.show()"
   ]
  },
  {
   "cell_type": "code",
   "execution_count": 32,
   "metadata": {},
   "outputs": [
    {
     "data": {
      "image/png": "[encoded data removed]",
      "text/plain": [
       "<Figure size 432x288 with 1 Axes>"
      ]
     },
     "metadata": {
      "needs_background": "light"
     },
     "output_type": "display_data"
    }
   ],
   "source": [
    "num_bins = 10\n",
    "n, bins, patches = plt.hist(df['saturation'], num_bins, facecolor='blue', alpha=0.5, )\n",
    "plt.xlabel('Average Saturation')\n",
    "plt.show()"
   ]
  },
  {
   "cell_type": "code",
   "execution_count": 33,
   "metadata": {},
   "outputs": [
    {
     "data": {
      "image/png": "[encoded data removed]",
      "text/plain": [
       "<Figure size 432x288 with 1 Axes>"
      ]
     },
     "metadata": {
      "needs_background": "light"
     },
     "output_type": "display_data"
    }
   ],
   "source": [
    "num_bins = 10\n",
    "n, bins, patches = plt.hist(df['height'], num_bins, facecolor='blue', alpha=0.5, )\n",
    "plt.xlabel('Average Heights')\n",
    "plt.show()"
   ]
  },
  {
   "cell_type": "code",
   "execution_count": 34,
   "metadata": {},
   "outputs": [
    {
     "data": {
      "image/png": "[encoded data removed]",
      "text/plain": [
       "<Figure size 432x288 with 1 Axes>"
      ]
     },
     "metadata": {
      "needs_background": "light"
     },
     "output_type": "display_data"
    }
   ],
   "source": [
    "num_bins = 10\n",
    "n, bins, patches = plt.hist(df['width'], num_bins, facecolor='blue', alpha=0.5, )\n",
    "plt.xlabel('Average Widths')\n",
    "plt.show()"
   ]
  },
  {
   "cell_type": "code",
   "execution_count": 35,
   "metadata": {},
   "outputs": [
    {
     "data": {
      "image/png": "[encoded data removed]",
      "text/plain": [
       "<Figure size 720x432 with 1 Axes>"
      ]
     },
     "metadata": {
      "needs_background": "light"
     },
     "output_type": "display_data"
    }
   ],
   "source": [
    "fig, ax = plt.subplots(figsize=(10, 6))\n",
    "ax.scatter(x = df['value'], y = df['hue'])\n",
    "plt.xlabel(\"Average Value\")\n",
    "plt.ylabel(\"Average Hue\")\n",
    "plt.show()"
   ]
  },
  {
   "cell_type": "code",
   "execution_count": 36,
   "metadata": {},
   "outputs": [],
   "source": [
    "from skimage import io\n",
    "from scipy import ndimage\n",
    "from skimage.color import rgb2hsv\n",
    "import skimage\n",
    "from PIL import Image\n",
    "import random\n",
    "import glob, os"
   ]
  },
  {
   "cell_type": "code",
   "execution_count": 37,
   "metadata": {},
   "outputs": [
    {
     "name": "stdout",
     "output_type": "stream",
     "text": [
      "yellow-cherry-orange.jpg\n",
      "ochre-and-red-on-red-1.jpg\n",
      "untitled-1968-1.jpg\n",
      "no-1-untitled.jpg\n",
      "untitled-7.jpg\n",
      "not_detected_242137.jpg\n",
      "cat-newyork.jpg\n",
      "not_detected_242122.jpg\n",
      "not_detected_242136.jpg\n",
      "no-37-no-19-slate-blue-and-brown-on-plum-1958.jpg\n",
      "untitled-6(1).jpg\n",
      "untitled-late-1920s.jpg\n",
      "untitled-1968-2.jpg\n",
      "ochre-and-red-on-red-2.jpg\n",
      "black-on-maroon.jpg\n",
      "interior.jpg\n",
      "not_detected_242120.jpg\n",
      "red-white-and-brown.jpg\n",
      "not_detected_242135.jpg\n",
      "not_detected_242121.jpg\n",
      "untitled-brown-and-gray.jpg\n",
      "untitled-5.jpg\n",
      "blue-and-gray.jpg\n",
      "untitled-1.jpg\n",
      "untitled-1948-2.jpg\n",
      "not_detected_242119.jpg\n",
      "not_detected_242125.jpg\n",
      "not_detected_242131.jpg\n",
      "not_detected_242124.jpg\n",
      "not_detected_242118.jpg\n",
      "sacrifice-of-iphigenia.jpg\n",
      "untitled-1969-1(1).jpg\n",
      "untitled-red-blue-orange-1955.jpg\n",
      "untitled-2.jpg\n",
      "untitled-1948-1.jpg\n",
      "green-and-maroon.jpg\n",
      "aubade.jpg\n",
      "no-20-1957.jpg\n",
      "rites-of-lilith.jpg\n",
      "not_detected_242132.jpg\n",
      "not_detected_242126.jpg\n",
      "hierarchical-birds.jpg\n",
      "no-9.jpg\n",
      "untitled-4(1).jpg\n",
      "black-red-and-black-1968.jpg\n",
      "four-darks-in-red-1958.jpg\n",
      "untitled-3.jpg\n",
      "no-9-1947.jpg\n",
      "untitled-subway.jpg\n",
      "yellow-band.jpg\n",
      "untitled-19.jpg\n",
      "untitled-1969-2.jpg\n",
      "not_detected_242140.jpg\n",
      "not_detected_242141.jpg\n",
      "orange-red-orange-1961.jpg\n",
      "lavender-and-mulberry.jpg\n",
      "untitled-18.jpg\n",
      "no-1-royal-red-and-blue-1954.jpg\n",
      "no-8-1952.jpg\n",
      "no-3-no-13.jpg\n",
      "number-24-untitled-1951.jpg\n",
      "untitled-1955.jpg\n",
      "untitled-1969.jpg\n",
      "purple-brown.jpg\n",
      "no-3-1953.jpg\n",
      "archaic-idol.jpg\n",
      "untitled-1968.jpg\n",
      "underground-fantasy.jpg\n",
      "earth-green.jpg\n",
      "no-7-1964.jpg\n",
      "black-on-dark-sienna-on-purple.jpg\n",
      "no-21.jpg\n",
      "untitled-1949-1.jpg\n",
      "no-19.jpg\n",
      "black-in-deep-red-1957.jpg\n",
      "orange-and-yellow(1).jpg\n",
      "no-18.jpg\n",
      "no-17-1961(1).jpg\n",
      "no-24.jpg\n",
      "red-on-maroon.jpg\n",
      "light-red-over-black-1957.jpg\n",
      "restricted.jpg\n",
      "red-and-orange.jpg\n",
      "red-1968.jpg\n",
      "white-on-red(1).jpg\n",
      "self-portrait.jpg\n",
      "untitled-no-11-1957.jpg\n",
      "untitled-14b.jpg\n",
      "untitled-red-brown-black-green-red-1962.jpg\n",
      "no-46(1).jpg\n",
      "no-5-no-22.jpg\n",
      "untitled-10.jpg\n",
      "tentacles-of-memory.jpg\n",
      "no-2-1964.jpg\n",
      "untitled-11.jpg\n",
      "cubierta.jpg\n",
      "untitled-13.jpg\n",
      "untitled-1948.jpg\n",
      "street-scene.jpg\n",
      "no-3-1967.jpg\n",
      "untitled-1949.jpg\n",
      "no-16-1957.jpg\n",
      "untitled-three-nudes-19331934.jpg\n",
      "untitled-12.jpg\n",
      "no-8-1964.jpg\n",
      "no-5-no-24.jpg\n",
      "untitled-16.jpg\n",
      "composition-i-1931.jpg\n",
      "no-10.jpg\n",
      "untitled-1959.jpg\n",
      "primeval-landscape.jpg\n",
      "violet-black-orange-yellow-on-white-and-red.jpg\n",
      "rothko-chapel.jpg\n",
      "untitled-black-and-gray.jpg\n",
      "untitled-1970.jpg\n",
      "composition-1958.jpg\n",
      "entance-to-subway.jpg\n",
      "no-2-no-7-and-no-2-1951.jpg\n",
      "no-11.jpg\n",
      "untitled-17.jpg\n",
      "untitled-gray-and-mauve-1969.jpg\n",
      "untitled-15.jpg\n",
      "no-13.jpg\n",
      "untitled-1967.jpg\n",
      "united-blue-yellow-green-on-red-1954.jpg\n",
      "untitled-14.jpg\n",
      "blue-over-red-1953.jpg\n",
      "black-on-maroon-2.jpg\n",
      "untitled.jpg\n",
      "not_detected_242116.jpg\n",
      "ochre-and-red-on-red.jpg\n",
      "white-center.jpg\n",
      "not_detected_242117.jpg\n",
      "lazy-load-placeholder.png\n",
      "black-on-maroon-3.jpg\n",
      "black-on-maroon-1.jpg\n",
      "rural-scene.jpg\n",
      "untitled-red-1956.jpg\n",
      "not_detected_242115.jpg\n",
      "not_detected_242129.jpg\n",
      "blue-orange-red.jpg\n",
      "not_detected_242128.jpg\n",
      "untitled-blue-divided-by-blue-1966.jpg\n",
      "red-and-brown.jpg\n",
      "slow-swirl-at-the-edge-of-the-sea(1).jpg\n",
      "untitled-8.jpg\n",
      "untitled-green-on-blue-1968.jpg\n",
      "black-on-maroon-4.jpg\n",
      "multiform-1948.jpg\n",
      "untitled-blue-green-and-brown-1952.jpg\n",
      "no-2.jpg\n",
      "orange-over-violet-1968.jpg\n",
      "no-7-dark-over-light-1954.jpg\n",
      "not_detected_242139.jpg\n",
      "no-4-1964.jpg\n",
      "no-5-1964.jpg\n",
      "untitled-mural-for-end-wall.jpg\n",
      "no-6-yellow-white-blue-over-yellow-on-gray-1954.jpg\n",
      "untitled-9.jpg\n",
      "green-and-tangerine-on-red.jpg\n",
      "untitled-yellow-red-and-blue-1953.jpg\n",
      "1.jpg\n",
      "no-9-dark-over-light-earth.jpg\n",
      "rothko-chapel-1967.jpg\n",
      "no-14-1960.jpg\n",
      "no-1.jpg\n",
      "untitled-red-and-orange-on-salmon-1969.jpg\n",
      "red.jpg\n",
      "no-301.jpg\n",
      "no-14-horizontals-white-over-darks-1961.jpg\n"
     ]
    }
   ],
   "source": [
    "for entry in glob.glob('Desktop/art_scraping/data/mark-rothko/*'):\n",
    "    #print(entry)\n",
    "    entry_name = entry[38:]\n",
    "    print(entry_name)\n",
    "    #image = io.imread(entry)\n",
    "    #print(image)\n",
    "    #io.imshow(image)"
   ]
  },
  {
   "cell_type": "code",
   "execution_count": 38,
   "metadata": {},
   "outputs": [],
   "source": [
    "#image = io.imread('Desktop/art_scraping/data/mark-rothko/untitled-1949.jpg')\n",
    "#print(image)\n",
    "#io.imshow(image)"
   ]
  },
  {
   "cell_type": "code",
   "execution_count": 44,
   "metadata": {},
   "outputs": [],
   "source": [
    "size = 128, 128\n",
    "\n",
    "for infile in glob.glob('Desktop/art_scraping/data/mark-rothko/*'):\n",
    "    file, ext = os.path.splitext(infile)\n",
    "    im = Image.open(infile)\n",
    "    im.thumbnail(size)\n",
    "    im.save(file + \".thumbnail\"+\".jpg\", \"JPEG\")"
   ]
  },
  {
   "cell_type": "code",
   "execution_count": 61,
   "metadata": {},
   "outputs": [],
   "source": [
    "#DATA_DIR = 'Desktop/ARH_410_Ex1_Thumbnails'\n",
    "DATA_DIR = 'Desktop/ARH_410'"
   ]
  },
  {
   "cell_type": "code",
   "execution_count": 62,
   "metadata": {},
   "outputs": [],
   "source": [
    "if not os.path.exists(DATA_DIR):\n",
    "    os.makedirs(DATA_DIR)"
   ]
  },
  {
   "cell_type": "code",
   "execution_count": 63,
   "metadata": {},
   "outputs": [],
   "source": [
    "#target = DATA_DIR\n",
    "#original = 'Desktop/art_scraping/data/mark-rothko/'"
   ]
  },
  {
   "cell_type": "code",
   "execution_count": 64,
   "metadata": {},
   "outputs": [
    {
     "data": {
      "text/plain": [
       "'for filename in os.listdir(directory):\\n    f = os.path.join(directory, filename)\\n    print(f)'"
      ]
     },
     "execution_count": 64,
     "metadata": {},
     "output_type": "execute_result"
    }
   ],
   "source": [
    "'''directory = 'Desktop/ARH_410_Ex1_Thumbnails/mark-rothko'\n",
    "for filename in os.listdir(directory):\n",
    "    f = os.path.join(directory, filename)\n",
    "    if os.path.isfile(f) and filename.endswith('.thumbnail.jpg'):\n",
    "        #print(f)\n",
    "        #os.remove(f)\n",
    "        shutil.move(original, target)\n",
    "    elif os.path.isfile(f) and not filename.endswith('.thumbnail.jpg'):\n",
    "        os.remove(f)\n",
    "        #shutil.move('Desktop/ARH_410_Ex1_Thumbnails','Desktop/art_scraping/data/mark-rothko/')'''\n",
    "\n",
    "'''for filename in os.listdir(directory):\n",
    "    f = os.path.join(directory, filename)\n",
    "    print(f)'''\n",
    " "
   ]
  },
  {
   "cell_type": "code",
   "execution_count": 65,
   "metadata": {},
   "outputs": [
    {
     "data": {
      "text/html": [
       "<div>\n",
       "<style scoped>\n",
       "    .dataframe tbody tr th:only-of-type {\n",
       "        vertical-align: middle;\n",
       "    }\n",
       "\n",
       "    .dataframe tbody tr th {\n",
       "        vertical-align: top;\n",
       "    }\n",
       "\n",
       "    .dataframe thead th {\n",
       "        text-align: right;\n",
       "    }\n",
       "</style>\n",
       "<table border=\"1\" class=\"dataframe\">\n",
       "  <thead>\n",
       "    <tr style=\"text-align: right;\">\n",
       "      <th></th>\n",
       "      <th>filename</th>\n",
       "      <th>width</th>\n",
       "      <th>height</th>\n",
       "      <th>hue</th>\n",
       "      <th>saturation</th>\n",
       "      <th>value</th>\n",
       "    </tr>\n",
       "  </thead>\n",
       "  <tbody>\n",
       "    <tr>\n",
       "      <th>0</th>\n",
       "      <td>yellow-cherry-orange.jpg</td>\n",
       "      <td>469</td>\n",
       "      <td>771</td>\n",
       "      <td>0.378785</td>\n",
       "      <td>0.718440</td>\n",
       "      <td>0.735384</td>\n",
       "    </tr>\n",
       "    <tr>\n",
       "      <th>1</th>\n",
       "      <td>ochre-and-red-on-red-1.jpg</td>\n",
       "      <td>640</td>\n",
       "      <td>666</td>\n",
       "      <td>0.325048</td>\n",
       "      <td>0.822885</td>\n",
       "      <td>0.858201</td>\n",
       "    </tr>\n",
       "    <tr>\n",
       "      <th>2</th>\n",
       "      <td>untitled-1968-1.jpg</td>\n",
       "      <td>409</td>\n",
       "      <td>640</td>\n",
       "      <td>0.781843</td>\n",
       "      <td>0.493249</td>\n",
       "      <td>0.204466</td>\n",
       "    </tr>\n",
       "    <tr>\n",
       "      <th>3</th>\n",
       "      <td>no-1-untitled.jpg</td>\n",
       "      <td>520</td>\n",
       "      <td>474</td>\n",
       "      <td>0.132275</td>\n",
       "      <td>0.340141</td>\n",
       "      <td>0.822457</td>\n",
       "    </tr>\n",
       "    <tr>\n",
       "      <th>4</th>\n",
       "      <td>untitled-7.jpg</td>\n",
       "      <td>547</td>\n",
       "      <td>700</td>\n",
       "      <td>0.104240</td>\n",
       "      <td>0.845901</td>\n",
       "      <td>0.844397</td>\n",
       "    </tr>\n",
       "    <tr>\n",
       "      <th>...</th>\n",
       "      <td>...</td>\n",
       "      <td>...</td>\n",
       "      <td>...</td>\n",
       "      <td>...</td>\n",
       "      <td>...</td>\n",
       "      <td>...</td>\n",
       "    </tr>\n",
       "    <tr>\n",
       "      <th>165</th>\n",
       "      <td>no-1.jpg</td>\n",
       "      <td>666</td>\n",
       "      <td>800</td>\n",
       "      <td>0.250040</td>\n",
       "      <td>0.740983</td>\n",
       "      <td>0.749033</td>\n",
       "    </tr>\n",
       "    <tr>\n",
       "      <th>166</th>\n",
       "      <td>untitled-red-and-orange-on-salmon-1969.jpg</td>\n",
       "      <td>350</td>\n",
       "      <td>467</td>\n",
       "      <td>0.036489</td>\n",
       "      <td>0.747362</td>\n",
       "      <td>0.749019</td>\n",
       "    </tr>\n",
       "    <tr>\n",
       "      <th>167</th>\n",
       "      <td>red.jpg</td>\n",
       "      <td>580</td>\n",
       "      <td>843</td>\n",
       "      <td>0.371789</td>\n",
       "      <td>0.876166</td>\n",
       "      <td>0.570616</td>\n",
       "    </tr>\n",
       "    <tr>\n",
       "      <th>168</th>\n",
       "      <td>no-301.jpg</td>\n",
       "      <td>520</td>\n",
       "      <td>600</td>\n",
       "      <td>0.352627</td>\n",
       "      <td>0.929237</td>\n",
       "      <td>0.698300</td>\n",
       "    </tr>\n",
       "    <tr>\n",
       "      <th>169</th>\n",
       "      <td>no-14-horizontals-white-over-darks-1961.jpg</td>\n",
       "      <td>500</td>\n",
       "      <td>302</td>\n",
       "      <td>0.279773</td>\n",
       "      <td>0.129740</td>\n",
       "      <td>0.331725</td>\n",
       "    </tr>\n",
       "  </tbody>\n",
       "</table>\n",
       "<p>170 rows × 6 columns</p>\n",
       "</div>"
      ],
      "text/plain": [
       "                                        filename  width  height       hue  \\\n",
       "0                       yellow-cherry-orange.jpg    469     771  0.378785   \n",
       "1                     ochre-and-red-on-red-1.jpg    640     666  0.325048   \n",
       "2                            untitled-1968-1.jpg    409     640  0.781843   \n",
       "3                              no-1-untitled.jpg    520     474  0.132275   \n",
       "4                                 untitled-7.jpg    547     700  0.104240   \n",
       "..                                           ...    ...     ...       ...   \n",
       "165                                     no-1.jpg    666     800  0.250040   \n",
       "166   untitled-red-and-orange-on-salmon-1969.jpg    350     467  0.036489   \n",
       "167                                      red.jpg    580     843  0.371789   \n",
       "168                                   no-301.jpg    520     600  0.352627   \n",
       "169  no-14-horizontals-white-over-darks-1961.jpg    500     302  0.279773   \n",
       "\n",
       "     saturation     value  \n",
       "0      0.718440  0.735384  \n",
       "1      0.822885  0.858201  \n",
       "2      0.493249  0.204466  \n",
       "3      0.340141  0.822457  \n",
       "4      0.845901  0.844397  \n",
       "..          ...       ...  \n",
       "165    0.740983  0.749033  \n",
       "166    0.747362  0.749019  \n",
       "167    0.876166  0.570616  \n",
       "168    0.929237  0.698300  \n",
       "169    0.129740  0.331725  \n",
       "\n",
       "[170 rows x 6 columns]"
      ]
     },
     "execution_count": 65,
     "metadata": {},
     "output_type": "execute_result"
    }
   ],
   "source": [
    "df"
   ]
  },
  {
   "cell_type": "code",
   "execution_count": 66,
   "metadata": {},
   "outputs": [],
   "source": [
    "coord_X = df['value']"
   ]
  },
  {
   "cell_type": "code",
   "execution_count": 67,
   "metadata": {},
   "outputs": [],
   "source": [
    "coord_Y = df['saturation']"
   ]
  },
  {
   "cell_type": "code",
   "execution_count": 68,
   "metadata": {},
   "outputs": [
    {
     "data": {
      "text/plain": [
       "0      0.735384\n",
       "1      0.858201\n",
       "2      0.204466\n",
       "3      0.822457\n",
       "4      0.844397\n",
       "         ...   \n",
       "165    0.749033\n",
       "166    0.749019\n",
       "167    0.570616\n",
       "168    0.698300\n",
       "169    0.331725\n",
       "Name: value, Length: 170, dtype: float64"
      ]
     },
     "execution_count": 68,
     "metadata": {},
     "output_type": "execute_result"
    }
   ],
   "source": [
    "coord_X\n"
   ]
  },
  {
   "cell_type": "code",
   "execution_count": 69,
   "metadata": {},
   "outputs": [],
   "source": [
    "# create background image\n",
    "GLOBAL_WIDTH = 7500\n",
    "bg_color = (192, 192, 192) # gray, you can choose your own\n",
    "figure = Image.new('RGB', (GLOBAL_WIDTH, GLOBAL_WIDTH), bg_color)\n",
    "num_points = 100"
   ]
  },
  {
   "cell_type": "code",
   "execution_count": 70,
   "metadata": {},
   "outputs": [
    {
     "name": "stdout",
     "output_type": "stream",
     "text": [
      "[(5515, 5388), (6436, 6171), (1533, 3699), (6168, 2551), (6332, 6344), (3052, 2703), (5224, 3550), (4759, 3644), (2564, 3215), (2633, 2938), (5748, 6599), (5823, 1609), (3671, 5146), (4799, 4768), (1701, 1336), (3272, 3647), (4387, 3403), (6162, 6577), (4707, 6793), (6616, 1646), (1603, 2742), (5606, 5736), (2971, 1866), (5430, 5069), (6268, 3322), (5613, 3742), (2160, 2344), (2385, 4458), (3765, 3873), (3597, 2390), (5578, 4397), (3279, 6156), (4797, 4914), (4154, 2802), (6448, 4361), (3306, 2775), (5029, 3734), (3025, 3765), (4364, 2457), (4580, 4235), (3497, 3552), (4412, 2458), (6103, 5615), (3614, 2680), (1609, 3761), (2610, 3973), (5663, 2925), (5055, 3710), (4626, 3960), (6643, 6294), (6026, 1496), (1913, 936), (2875, 4664), (5763, 2044), (5870, 5497), (4119, 1362), (4434, 3334), (5333, 5721), (7060, 4847), (3704, 2711), (5057, 3628), (6051, 3215), (339, 2605), (2525, 3508), (5363, 3811), (6280, 2458), (1496, 2160), (4780, 2269), (2187, 4318), (1093, 566), (870, 2455), (6372, 4560), (3678, 3942), (6436, 4995), (1748, 3915), (7067, 5671), (5895, 3022), (4952, 4534), (4792, 3528), (2289, 3960), (2858, 4038), (4234, 4994), (4478, 6662), (4269, 3324), (6075, 4044), (3028, 5197), (5523, 4538), (6120, 1382), (1827, 4033), (4052, 5114), (6634, 7374), (5937, 5292), (3318, 4657), (1682, 660), (5478, 3617), (2440, 3189), (4159, 2240), (6029, 4015), (4602, 2479), (5306, 4929), (3636, 5146), (6970, 2285), (3990, 1721), (7271, 5667), (1640, 1031), (4742, 2274), (4154, 2348), (3462, 3295), (5093, 4216), (3098, 3186), (5138, 3630), (6222, 5706), (3104, 2529), (2830, 2592), (6195, 7081), (5071, 5348), (3335, 3084), (6355, 2100), (6403, 4779), (4573, 3428), (4429, 773), (2546, 3918), (6005, 5072), (3335, 5248), (6251, 5388), (5084, 5105), (5474, 4570), (1651, 2977), (5452, 4574), (4569, 3878), (6124, 6629), (6562, 4013), (5646, 4218), (7264, 121), (1305, 2032), (1269, 1490), (3291, 3184), (5760, 4929), (4838, 3747), (6603, 7345), (4366, 6169), (4670, 4519), (4959, 4939), (3599, 5724), (5382, 3674), (3447, 490), (3884, 4105), (3050, 3853), (6340, 3344), (3207, 3795), (6895, 3849), (4960, 1948), (3581, 2468), (5603, 4385), (843, 2820), (1942, 3117), (4348, 5931), (5880, 4048), (6699, 6850), (4628, 4291), (5906, 4584), (2845, 3644), (4722, 4236), (2837, 2664), (3212, 4085), (5617, 5557), (5617, 5605), (4279, 6571), (5237, 6969), (2487, 973)]\n"
     ]
    }
   ],
   "source": [
    "coords = []\n",
    "\n",
    "for i,j in zip(coord_X, coord_Y):\n",
    "    #x = (\"i:\" + str(i),\"j:\"+str(j))\n",
    "    #x= (i,j)\n",
    "    x= (int(i*GLOBAL_WIDTH),int(j*GLOBAL_WIDTH))\n",
    "    coords.append(x)\n",
    "print (coords)"
   ]
  },
  {
   "cell_type": "code",
   "execution_count": 76,
   "metadata": {},
   "outputs": [
    {
     "data": {
      "text/plain": [
       "['Desktop/ARH_410_Ex1_Thumbnails/mark-rothko/hierarchical-birds.thumbnail.jpg',\n",
       " 'Desktop/ARH_410_Ex1_Thumbnails/mark-rothko/not_detected_242116.thumbnail.jpg',\n",
       " 'Desktop/ARH_410_Ex1_Thumbnails/mark-rothko/no-2.thumbnail.jpg',\n",
       " 'Desktop/ARH_410_Ex1_Thumbnails/mark-rothko/united-blue-yellow-green-on-red-1954.thumbnail.jpg',\n",
       " 'Desktop/ARH_410_Ex1_Thumbnails/mark-rothko/untitled-14b.thumbnail.jpg',\n",
       " 'Desktop/ARH_410_Ex1_Thumbnails/mark-rothko/no-3-1953.thumbnail.jpg',\n",
       " 'Desktop/ARH_410_Ex1_Thumbnails/mark-rothko/untitled-18.thumbnail.jpg',\n",
       " 'Desktop/ARH_410_Ex1_Thumbnails/mark-rothko/tentacles-of-memory.thumbnail.jpg',\n",
       " 'Desktop/ARH_410_Ex1_Thumbnails/mark-rothko/untitled-1948-2.thumbnail.jpg',\n",
       " 'Desktop/ARH_410_Ex1_Thumbnails/mark-rothko/sacrifice-of-iphigenia.thumbnail.jpg',\n",
       " 'Desktop/ARH_410_Ex1_Thumbnails/mark-rothko/untitled-1948-1.thumbnail.jpg',\n",
       " 'Desktop/ARH_410_Ex1_Thumbnails/mark-rothko/aubade.thumbnail.jpg',\n",
       " 'Desktop/ARH_410_Ex1_Thumbnails/mark-rothko/multiform-1948.thumbnail.jpg',\n",
       " 'Desktop/ARH_410_Ex1_Thumbnails/mark-rothko/untitled-4(1).thumbnail.jpg',\n",
       " 'Desktop/ARH_410_Ex1_Thumbnails/mark-rothko/no-2-no-7-and-no-2-1951.thumbnail.jpg',\n",
       " 'Desktop/ARH_410_Ex1_Thumbnails/mark-rothko/no-1.thumbnail.jpg',\n",
       " 'Desktop/ARH_410_Ex1_Thumbnails/mark-rothko/not_detected_242115.thumbnail.jpg',\n",
       " 'Desktop/ARH_410_Ex1_Thumbnails/mark-rothko/rites-of-lilith.thumbnail.jpg',\n",
       " 'Desktop/ARH_410_Ex1_Thumbnails/mark-rothko/not_detected_242128.thumbnail.jpg',\n",
       " 'Desktop/ARH_410_Ex1_Thumbnails/mark-rothko/archaic-idol.thumbnail.jpg',\n",
       " 'Desktop/ARH_410_Ex1_Thumbnails/mark-rothko/not_detected_242122.thumbnail.jpg',\n",
       " 'Desktop/ARH_410_Ex1_Thumbnails/mark-rothko/no-5-no-22.thumbnail.jpg',\n",
       " 'Desktop/ARH_410_Ex1_Thumbnails/mark-rothko/untitled-1949-1.thumbnail.jpg',\n",
       " 'Desktop/ARH_410_Ex1_Thumbnails/mark-rothko/street-scene.thumbnail.jpg',\n",
       " 'Desktop/ARH_410_Ex1_Thumbnails/mark-rothko/untitled-15.thumbnail.jpg',\n",
       " 'Desktop/ARH_410_Ex1_Thumbnails/mark-rothko/not_detected_242126.thumbnail.jpg',\n",
       " 'Desktop/ARH_410_Ex1_Thumbnails/mark-rothko/lazy-load-placeholder.thumbnail.jpg',\n",
       " 'Desktop/ARH_410_Ex1_Thumbnails/mark-rothko/no-18.thumbnail.jpg',\n",
       " 'Desktop/ARH_410_Ex1_Thumbnails/mark-rothko/not_detected_242141.thumbnail.jpg',\n",
       " 'Desktop/ARH_410_Ex1_Thumbnails/mark-rothko/untitled-1949.thumbnail.jpg',\n",
       " 'Desktop/ARH_410_Ex1_Thumbnails/mark-rothko/no-21.thumbnail.jpg',\n",
       " 'Desktop/ARH_410_Ex1_Thumbnails/mark-rothko/yellow-cherry-orange.thumbnail.jpg',\n",
       " 'Desktop/ARH_410_Ex1_Thumbnails/mark-rothko/slow-swirl-at-the-edge-of-the-sea(1).thumbnail.jpg',\n",
       " 'Desktop/ARH_410_Ex1_Thumbnails/mark-rothko/untitled-three-nudes-19331934.thumbnail.jpg',\n",
       " 'Desktop/ARH_410_Ex1_Thumbnails/mark-rothko/no-1-untitled.thumbnail.jpg',\n",
       " 'Desktop/ARH_410_Ex1_Thumbnails/mark-rothko/untitled-3.thumbnail.jpg',\n",
       " 'Desktop/ARH_410_Ex1_Thumbnails/mark-rothko/no-1-royal-red-and-blue-1954.thumbnail.jpg',\n",
       " 'Desktop/ARH_410_Ex1_Thumbnails/mark-rothko/not_detected_242121.thumbnail.jpg',\n",
       " 'Desktop/ARH_410_Ex1_Thumbnails/mark-rothko/not_detected_242118.thumbnail.jpg',\n",
       " 'Desktop/ARH_410_Ex1_Thumbnails/mark-rothko/untitled-16.thumbnail.jpg',\n",
       " 'Desktop/ARH_410_Ex1_Thumbnails/mark-rothko/cat-newyork.thumbnail.jpg',\n",
       " 'Desktop/ARH_410_Ex1_Thumbnails/mark-rothko/untitled-2.thumbnail.jpg',\n",
       " 'Desktop/ARH_410_Ex1_Thumbnails/mark-rothko/self-portrait.thumbnail.jpg',\n",
       " 'Desktop/ARH_410_Ex1_Thumbnails/mark-rothko/earth-green.thumbnail.jpg',\n",
       " 'Desktop/ARH_410_Ex1_Thumbnails/mark-rothko/no-7-dark-over-light-1954.thumbnail.jpg',\n",
       " 'Desktop/ARH_410_Ex1_Thumbnails/mark-rothko/no-9-dark-over-light-earth.thumbnail.jpg',\n",
       " 'Desktop/ARH_410_Ex1_Thumbnails/mark-rothko/untitled-late-1920s.thumbnail.jpg',\n",
       " 'Desktop/ARH_410_Ex1_Thumbnails/mark-rothko/no-5-no-24.thumbnail.jpg',\n",
       " 'Desktop/ARH_410_Ex1_Thumbnails/mark-rothko/no-8-1952.thumbnail.jpg',\n",
       " 'Desktop/ARH_410_Ex1_Thumbnails/mark-rothko/no-9.thumbnail.jpg',\n",
       " 'Desktop/ARH_410_Ex1_Thumbnails/mark-rothko/not_detected_242124.thumbnail.jpg',\n",
       " 'Desktop/ARH_410_Ex1_Thumbnails/mark-rothko/untitled-17.thumbnail.jpg',\n",
       " 'Desktop/ARH_410_Ex1_Thumbnails/mark-rothko/number-24-untitled-1951.thumbnail.jpg',\n",
       " 'Desktop/ARH_410_Ex1_Thumbnails/mark-rothko/blue-over-red-1953.thumbnail.jpg',\n",
       " 'Desktop/ARH_410_Ex1_Thumbnails/mark-rothko/not_detected_242119.thumbnail.jpg',\n",
       " 'Desktop/ARH_410_Ex1_Thumbnails/mark-rothko/untitled-13.thumbnail.jpg',\n",
       " 'Desktop/ARH_410_Ex1_Thumbnails/mark-rothko/no-9-1947.thumbnail.jpg',\n",
       " 'Desktop/ARH_410_Ex1_Thumbnails/mark-rothko/untitled-14.thumbnail.jpg',\n",
       " 'Desktop/ARH_410_Ex1_Thumbnails/mark-rothko/untitled.thumbnail.jpg',\n",
       " 'Desktop/ARH_410_Ex1_Thumbnails/mark-rothko/rural-scene.thumbnail.jpg',\n",
       " 'Desktop/ARH_410_Ex1_Thumbnails/mark-rothko/white-center.thumbnail.jpg',\n",
       " 'Desktop/ARH_410_Ex1_Thumbnails/mark-rothko/untitled-10.thumbnail.jpg',\n",
       " 'Desktop/ARH_410_Ex1_Thumbnails/mark-rothko/untitled-1.thumbnail.jpg',\n",
       " 'Desktop/ARH_410_Ex1_Thumbnails/mark-rothko/untitled-1948.thumbnail.jpg',\n",
       " 'Desktop/ARH_410_Ex1_Thumbnails/mark-rothko/restricted.thumbnail.jpg',\n",
       " 'Desktop/ARH_410_Ex1_Thumbnails/mark-rothko/no-19.thumbnail.jpg',\n",
       " 'Desktop/ARH_410_Ex1_Thumbnails/mark-rothko/untitled-6(1).thumbnail.jpg',\n",
       " 'Desktop/ARH_410_Ex1_Thumbnails/mark-rothko/not_detected_242140.thumbnail.jpg',\n",
       " 'Desktop/ARH_410_Ex1_Thumbnails/mark-rothko/no-24.thumbnail.jpg',\n",
       " 'Desktop/ARH_410_Ex1_Thumbnails/mark-rothko/no-6-yellow-white-blue-over-yellow-on-gray-1954.thumbnail.jpg',\n",
       " 'Desktop/ARH_410_Ex1_Thumbnails/mark-rothko/green-and-maroon.thumbnail.jpg',\n",
       " 'Desktop/ARH_410_Ex1_Thumbnails/mark-rothko/untitled-blue-green-and-brown-1952.thumbnail.jpg',\n",
       " 'Desktop/ARH_410_Ex1_Thumbnails/mark-rothko/entance-to-subway.thumbnail.jpg',\n",
       " 'Desktop/ARH_410_Ex1_Thumbnails/mark-rothko/interior.thumbnail.jpg',\n",
       " 'Desktop/ARH_410_Ex1_Thumbnails/mark-rothko/primeval-landscape.thumbnail.jpg',\n",
       " 'Desktop/ARH_410_Ex1_Thumbnails/mark-rothko/untitled-yellow-red-and-blue-1953.thumbnail.jpg',\n",
       " 'Desktop/ARH_410_Ex1_Thumbnails/mark-rothko/no-3-no-13.thumbnail.jpg',\n",
       " 'Desktop/ARH_410_Ex1_Thumbnails/mark-rothko/untitled-19.thumbnail.jpg',\n",
       " 'Desktop/ARH_410_Ex1_Thumbnails/mark-rothko/not_detected_242117.thumbnail.jpg',\n",
       " 'Desktop/ARH_410_Ex1_Thumbnails/mark-rothko/not_detected_242139.thumbnail.jpg',\n",
       " 'Desktop/ARH_410_Ex1_Thumbnails/mark-rothko/untitled-subway.thumbnail.jpg',\n",
       " 'Desktop/ARH_410_Ex1_Thumbnails/mark-rothko/composition-i-1931.thumbnail.jpg',\n",
       " 'Desktop/ARH_410_Ex1_Thumbnails/mark-rothko/underground-fantasy.thumbnail.jpg',\n",
       " 'Desktop/ARH_410_Ex1_Thumbnails/mark-rothko/1.thumbnail.jpg',\n",
       " 'Desktop/ARH_410_Ex1_Thumbnails/mark-rothko/ochre-and-red-on-red.thumbnail.jpg',\n",
       " 'Desktop/ARH_410_Ex1_Thumbnails/mark-rothko/no-10.thumbnail.jpg',\n",
       " 'Desktop/ARH_410_Ex1_Thumbnails/mark-rothko/violet-black-orange-yellow-on-white-and-red.thumbnail.jpg']"
      ]
     },
     "execution_count": 76,
     "metadata": {},
     "output_type": "execute_result"
    }
   ],
   "source": [
    "filenames = []\n",
    "i = 0\n",
    "\n",
    "directory = 'Desktop/ARH_410_Ex1_Thumbnails/mark-rothko'\n",
    "#directory = 'Desktop/ARH_410'\n",
    "for filename in os.listdir(directory):\n",
    "    f = os.path.join(directory, filename)\n",
    "    if os.path.isfile(f):\n",
    "        filenames.append(f)\n",
    "        i+=1\n",
    "\n",
    "filenames\n",
    "#87 titles"
   ]
  },
  {
   "cell_type": "code",
   "execution_count": 77,
   "metadata": {},
   "outputs": [
    {
     "ename": "IndexError",
     "evalue": "list index out of range",
     "output_type": "error",
     "traceback": [
      "\u001b[0;31m---------------------------------------------------------------------------\u001b[0m",
      "\u001b[0;31mIndexError\u001b[0m                                Traceback (most recent call last)",
      "\u001b[0;32m<ipython-input-77-e3639b86311e>\u001b[0m in \u001b[0;36m<module>\u001b[0;34m\u001b[0m\n\u001b[1;32m      1\u001b[0m \u001b[0;32mfor\u001b[0m \u001b[0mi\u001b[0m \u001b[0;32min\u001b[0m \u001b[0mrange\u001b[0m\u001b[0;34m(\u001b[0m\u001b[0mlen\u001b[0m\u001b[0;34m(\u001b[0m\u001b[0mcoords\u001b[0m\u001b[0;34m)\u001b[0m\u001b[0;34m)\u001b[0m\u001b[0;34m:\u001b[0m\u001b[0;34m\u001b[0m\u001b[0;34m\u001b[0m\u001b[0m\n\u001b[0;32m----> 2\u001b[0;31m     \u001b[0mthumb_img\u001b[0m \u001b[0;34m=\u001b[0m \u001b[0mImage\u001b[0m\u001b[0;34m.\u001b[0m\u001b[0mopen\u001b[0m\u001b[0;34m(\u001b[0m\u001b[0mfilenames\u001b[0m\u001b[0;34m[\u001b[0m\u001b[0mi\u001b[0m\u001b[0;34m]\u001b[0m\u001b[0;34m)\u001b[0m\u001b[0;34m\u001b[0m\u001b[0;34m\u001b[0m\u001b[0m\n\u001b[0m\u001b[1;32m      3\u001b[0m     \u001b[0mfigure\u001b[0m\u001b[0;34m.\u001b[0m\u001b[0mpaste\u001b[0m\u001b[0;34m(\u001b[0m\u001b[0mthumb_img\u001b[0m\u001b[0;34m,\u001b[0m \u001b[0mcoords\u001b[0m\u001b[0;34m[\u001b[0m\u001b[0mi\u001b[0m\u001b[0;34m]\u001b[0m\u001b[0;34m)\u001b[0m\u001b[0;34m\u001b[0m\u001b[0;34m\u001b[0m\u001b[0m\n",
      "\u001b[0;31mIndexError\u001b[0m: list index out of range"
     ]
    }
   ],
   "source": [
    "for i in range(len(coords)):\n",
    "    thumb_img = Image.open(filenames[i])\n",
    "    figure.paste(thumb_img, coords[i])"
   ]
  },
  {
   "cell_type": "code",
   "execution_count": 78,
   "metadata": {},
   "outputs": [],
   "source": [
    "# background.save(\"figure.tif\")\n",
    "# background.save(\"figure.png\")\n",
    "figure.save(\"figure.jpg\")"
   ]
  },
  {
   "cell_type": "code",
   "execution_count": 79,
   "metadata": {},
   "outputs": [
    {
     "data": {
      "text/plain": [
       "Text(0.5, 1.0, 'Saturation vs Value')"
      ]
     },
     "execution_count": 79,
     "metadata": {},
     "output_type": "execute_result"
    },
    {
     "data": {
      "image/png": "[encoded data removed]",
      "text/plain": [
       "<Figure size 720x720 with 1 Axes>"
      ]
     },
     "metadata": {
      "needs_background": "light"
     },
     "output_type": "display_data"
    }
   ],
   "source": [
    "image = plt.imread(\"figure.jpg\")\n",
    "\n",
    "fig, ax = plt.subplots(figsize=(10,10))\n",
    "ax.imshow(image)\n",
    "ax.axis('off')  # clear x-axis and y-axis\n",
    "ax.set_title(\"Saturation vs Value\")"
   ]
  },
  {
   "cell_type": "code",
   "execution_count": null,
   "metadata": {},
   "outputs": [],
   "source": []
  }
 ],
 "metadata": {
  "kernelspec": {
   "display_name": "Python 3",
   "language": "python",
   "name": "python3"
  },
  "language_info": {
   "codemirror_mode": {
    "name": "ipython",
    "version": 3
   },
   "file_extension": ".py",
   "mimetype": "text/x-python",
   "name": "python",
   "nbconvert_exporter": "python",
   "pygments_lexer": "ipython3",
   "version": "3.8.5"
  }
 },
 "nbformat": 4,
 "nbformat_minor": 4
}
